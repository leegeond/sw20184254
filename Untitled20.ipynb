{
  "nbformat": 4,
  "nbformat_minor": 0,
  "metadata": {
    "colab": {
      "provenance": []
    },
    "kernelspec": {
      "name": "python3",
      "display_name": "Python 3"
    },
    "language_info": {
      "name": "python"
    }
  },
  "cells": [
    {
      "cell_type": "markdown",
      "source": [
        "##오픈소스 sw 개론\n",
        "안녕하세요"
      ],
      "metadata": {
        "id": "bxjuO9RHpEIY"
      }
    },
    {
      "cell_type": "code",
      "source": [],
      "metadata": {
        "id": "6U_O63PKpFXY"
      },
      "execution_count": null,
      "outputs": []
    }
  ]
}