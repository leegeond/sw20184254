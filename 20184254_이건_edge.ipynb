{
  "nbformat": 4,
  "nbformat_minor": 0,
  "metadata": {
    "colab": {
      "provenance": []
    },
    "kernelspec": {
      "name": "python3",
      "display_name": "Python 3"
    },
    "language_info": {
      "name": "python"
    }
  },
  "cells": [
    {
      "cell_type": "markdown",
      "source": [
        "#20184254 이건"
      ],
      "metadata": {
        "id": "LDKGHvuxxJp-"
      }
    },
    {
      "cell_type": "code",
      "source": [
        "import cv2\n",
        "from google.colab import drive\n",
        "\n",
        "def extract_edges_simple(image_path, output_path):\n",
        "    # 이미지를 그레이스케일로 읽기\n",
        "    img = cv2.imread(image_path, cv2.IMREAD_GRAYSCALE)\n",
        "\n",
        "    # 캐니 에지 검출 적용\n",
        "    edges = cv2.Canny(img, 50, 150)\n",
        "\n",
        "    # 결과를 저장\n",
        "    cv2.imwrite(output_path, edges)\n",
        "\n",
        "if __name__ == \"__main__\":\n",
        "    image_path = \"/content/drive/MyDrive/face.jpg\"\n",
        "    output_path = \"/content/drive/MyDrive/edges.jpg\"\n",
        "\n",
        "\n",
        "    extract_edges_simple(image_path, output_path)"
      ],
      "metadata": {
        "id": "uGhgx5bRvnVK"
      },
      "execution_count": 1,
      "outputs": []
    },
    {
      "cell_type": "markdown",
      "source": [
        "##이미지의 테두리 추출하는 Canny\n",
        "케니 에지 검출을 적용하기 위해 흑백 혹은 그레이 스케일로 이미지를 읽고\n",
        "\n",
        "최소 쓰레시홀드 최대 쓰래시 홀드를 50,150으로 조정한다\n",
        "\n",
        "그후 imwrite로 이미지 저장후\n",
        "\n",
        "extract_edges_simple로 캐니 에지 검출을 수행하고 결과를 저장한다\n",
        "\n",
        "\n",
        "\n",
        "\n",
        "\n",
        "\n",
        "\n",
        "\n",
        "\n"
      ],
      "metadata": {
        "id": "X67LxdE5xJI_"
      }
    },
    {
      "cell_type": "code",
      "source": [],
      "metadata": {
        "id": "ukfmTPYGwGNW"
      },
      "execution_count": null,
      "outputs": []
    }
  ]
}